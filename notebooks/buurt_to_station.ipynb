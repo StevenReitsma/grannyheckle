{
 "cells": [
  {
   "cell_type": "markdown",
   "metadata": {},
   "source": [
    "# Calculate kW usage of solar panels per station\n",
    "This notebook converts the projected kW usage per buurt to their associated station by taking the nearest Euclidean distance."
   ]
  },
  {
   "cell_type": "code",
   "execution_count": 104,
   "metadata": {},
   "outputs": [],
   "source": [
    "import pandas as pd\n",
    "import numpy as np\n",
    "\n",
    "stations = pd.read_csv(\"../data/final_stations.csv\")\n",
    "pc6 = pd.read_csv(\"../data/pc6hnr20170801_gwb.csv\", sep=';')\n",
    "\n",
    "solar_panels = {}\n",
    "for year in np.arange(2016, 2030):\n",
    "    solar_panels[year] = pd.read_csv(f'../data/predictions/predictions_{year}.csv')\n",
    "    #solar_panels[year] = solar_panels[year][(solar_panels[year]['WijkenEnBuurten'] != 141303) & (solar_panels[year]['WijkenEnBuurten'] != 140006)]"
   ]
  },
  {
   "cell_type": "markdown",
   "metadata": {},
   "source": [
    "We convert buurt codes to postcode and then convert postcode to latlong and then latlong to nearest station ID.\n",
    "First, we define some functions to convert postcodes to longlats and a function to loop over postcodes in a pd Group."
   ]
  },
  {
   "cell_type": "code",
   "execution_count": 105,
   "metadata": {},
   "outputs": [],
   "source": [
    "postcode_url = 'https://basisregistraties.arcgisonline.nl/arcgis/rest/services/BAG/BAGv2/MapServer/0/query?where=postcode%3D%27{postcode}%27&text=&objectIds=&time=&geometry=&geometryType=esriGeometryPoint&inSR=&spatialRel=esriSpatialRelIntersects&relationParam=&outFields=*&returnGeometry=true&returnTrueCurves=false&maxAllowableOffset=&geometryPrecision=&outSR=4326&returnIdsOnly=false&returnCountOnly=false&orderByFields=&groupByFieldsForStatistics=&outStatistics=&returnZ=false&returnM=false&gdbVersion=&returnDistinctValues=false&resultOffset=&resultRecordCount=1&queryByDistance=&returnExtentsOnly=false&datumTransformation=&parameterValues=&rangeValues=&f=pjson'\n",
    "\n",
    "import requests\n",
    "\n",
    "def postcode_to_longlat(postcode):\n",
    "    result = requests.get(postcode_url.format(postcode=postcode)).json()\n",
    "    if len(result['features']) < 1:\n",
    "        raise ValueError(f'postcode {postcode} yielded no results')\n",
    "    return list(result['features'][0]['geometry'].values())[::-1]\n",
    "\n",
    "def postcode_group_to_longlat(postcodes):\n",
    "    for index, row in postcodes.iterrows():\n",
    "        try:\n",
    "            latlong = postcode_to_longlat(row.PC6)\n",
    "        except:\n",
    "            continue\n",
    "            \n",
    "        return latlong\n",
    "    print(postcodes)\n",
    "    raise Exception(\"Bestaat nie\")"
   ]
  },
  {
   "cell_type": "markdown",
   "metadata": {},
   "source": [
    "Here, we loop over every year and calculate the nearest station to add the kW to. We save these as json objects to disk."
   ]
  },
  {
   "cell_type": "code",
   "execution_count": 106,
   "metadata": {},
   "outputs": [],
   "source": [
    "from collections import defaultdict\n",
    "import json\n",
    "\n",
    "for year, solar_ps in solar_panels.items():\n",
    "    panels_per_pc6 = solar_ps.merge(pc6, how='left', left_on='WijkenEnBuurten', right_on='Buurt2017')\n",
    "    latlongs = panels_per_pc6.groupby('WijkenEnBuurten').apply(postcode_group_to_longlat)\n",
    "\n",
    "    panels_per_pc6 = panels_per_pc6.merge(pd.DataFrame(latlongs, columns=['latlong']), how='left', on='WijkenEnBuurten').groupby('WijkenEnBuurten').first()\n",
    "    \n",
    "    station_pos = stations[['LAT', 'LONG']].values\n",
    "\n",
    "    to_add = defaultdict(int)\n",
    "\n",
    "    for index, row in panels_per_pc6.iterrows():\n",
    "        closest_station = np.argmin(np.linalg.norm(row['latlong'] - station_pos, axis=1))\n",
    "\n",
    "        to_add[str(closest_station)] += row['predicted_nr_panels'] * 0.1 # watt\n",
    "    \n",
    "    with open(f'toadd_{year}.json', 'w') as f:\n",
    "        json.dump(to_add, f)"
   ]
  }
 ],
 "metadata": {
  "kernelspec": {
   "display_name": "Python 3",
   "language": "python",
   "name": "python3"
  },
  "language_info": {
   "codemirror_mode": {
    "name": "ipython",
    "version": 3
   },
   "file_extension": ".py",
   "mimetype": "text/x-python",
   "name": "python",
   "nbconvert_exporter": "python",
   "pygments_lexer": "ipython3",
   "version": "3.6.3"
  }
 },
 "nbformat": 4,
 "nbformat_minor": 2
}
