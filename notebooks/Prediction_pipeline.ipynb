{
 "cells": [
  {
   "cell_type": "code",
   "execution_count": null,
   "metadata": {
    "collapsed": true
   },
   "outputs": [],
   "source": [
    "def change_duplicate_columns(columns):\n",
    "    seen = []\n",
    "    final = []\n",
    "    for column in columns:\n",
    "        if column in seen:\n",
    "            final.append(column + '1')\n",
    "        else:\n",
    "            final.append(column)\n",
    "        seen.append(column)\n",
    "    return final\n",
    "\n"
   ]
  },
  {
   "cell_type": "code",
   "execution_count": null,
   "metadata": {
    "collapsed": true
   },
   "outputs": [],
   "source": [
    "def remove_numbers(columname):\n",
    "    splitted = columname.split('_')\n",
    "    if len(splitted) > 1:\n",
    "        splitted = splitted[:-1]\n",
    "        if len(splitted) > 1:\n",
    "            return '_'.join(splitted)\n",
    "    return splitted[0]"
   ]
  },
  {
   "cell_type": "code",
   "execution_count": null,
   "metadata": {
    "collapsed": false
   },
   "outputs": [],
   "source": [
    "import pandas as pd\n",
    "import numpy as np\n",
    "pd.options.display.max_columns = 999\n",
    "to_keep = ['WijkenEnBuurten', 'SoortRegio',\n",
    "'AantalInwoners', 'Mannen', 'Vrouwen',\n",
    "'k_0Tot15Jaar', 'k_15Tot25Jaar', 'k_25Tot45Jaar', 'k_45Tot65Jaar',\n",
    "'k_65JaarOfOuder', 'Ongehuwd', 'Gehuwd', 'Gescheiden', 'Verweduwd',\n",
    "'WestersTotaal', 'NietWestersTotaal',\n",
    "'GeboorteRelatief', 'SterfteRelatief', 'HuishoudensTotaal',\n",
    "'Eenpersoonshuishoudens', 'HuishoudensZonderKinderen',\n",
    "'HuishoudensMetKinderen', 'GemiddeldeHuishoudensgrootte',\n",
    "'Bevolkingsdichtheid', 'Woningvoorraad', 'GemiddeldeWoningwaarde',\n",
    "'PercentageEengezinswoning', 'PercentageMeergezinswoning',\n",
    "'PercentageBewoond', 'Koopwoningen',\n",
    "'HuurwoningenTotaal', 'InBezitWoningcorporatie', 'InBezitOverigeVerhuurders',\n",
    "'BouwjaarVoor2000', 'BouwjaarVanaf2000',\n",
    "'GemiddeldElektriciteitsverbruikTotaal', 'Appartement', 'Tussenwoning',\n",
    "'Hoekwoning', 'TweeOnderEenKapWoning', 'VrijstaandeWoning', 'Huurwoning', 'GemiddeldAardgasverbruikTotaal',\n",
    "'AantalInkomensontvangers', 'GemiddeldInkomenPerInkomensontvanger',\n",
    "'GemiddeldInkomenPerInwoner', 'k_40PersonenMetLaagsteInkomen',\n",
    "'k_20PersonenMetHoogsteInkomen', 'k_20HuishoudensMetHoogsteInkomen',\n",
    "'HuishoudensMetEenLaagInkomen', 'HuishOnderOfRondSociaalMinimum',\n",
    "'BedrijfsvestigingenTotaal',\n",
    "'PersonenautoSTotaal', 'PersonenautoSJongerDan6Jaar',\n",
    "'PersonenautoS6JaarEnOuder', 'PersonenautoSBrandstofBenzine',\n",
    "'PersonenautoSOverigeBrandstof', 'PersonenautoSPerHuishouden',\n",
    "'PersonenautoSNaarOppervlakte', 'Motorfietsen',\n",
    "'MateVanStedelijkheid','Omgevingsadressendichtheid']\n",
    "\n",
    "buurtinfo2016 = pd.read_csv('../data/groningen/groningen_kern2016.csv',sep=';', encoding = \"ISO-8859-1\", skipinitialspace=True)\n",
    "columns = buurtinfo2016.columns.map(remove_numbers)\n",
    "buurtinfo2016.columns = columns\n",
    "buurtinfo2016 = buurtinfo2016[to_keep]\n",
    "buurtinfo2016['attributes.TELJAAR'] = 2016\n",
    "buurtinfo2016.columns = change_duplicate_columns(buurtinfo2016.columns)"
   ]
  },
  {
   "cell_type": "code",
   "execution_count": null,
   "metadata": {
    "collapsed": false
   },
   "outputs": [],
   "source": [
    "ground_truth = pd.read_csv('../data/alle_jaren.csv')"
   ]
  },
  {
   "cell_type": "code",
   "execution_count": null,
   "metadata": {
    "collapsed": false
   },
   "outputs": [],
   "source": [
    "ground_truth = ground_truth[ground_truth['attributes.TELJAAR']==2016]"
   ]
  },
  {
   "cell_type": "code",
   "execution_count": null,
   "metadata": {
    "collapsed": false
   },
   "outputs": [],
   "source": [
    "ground_truth_number = ground_truth[['attributes.AANTAL_SUMMED','WijkenEnBuurten']].copy()"
   ]
  },
  {
   "cell_type": "code",
   "execution_count": null,
   "metadata": {
    "collapsed": true
   },
   "outputs": [],
   "source": [
    "def replace_dots(value):\n",
    "    try:\n",
    "        value = pd.to_numeric(value)\n",
    "        return value\n",
    "    except:\n",
    "        return np.nan"
   ]
  },
  {
   "cell_type": "code",
   "execution_count": null,
   "metadata": {
    "collapsed": true
   },
   "outputs": [],
   "source": [
    "for x in buurtinfo2016.columns[2:]:\n",
    "    buurtinfo2016[x] = buurtinfo2016[x].map(lambda y: replace_dots(y))\n",
    "\n",
    "buurtinfo2016 = buurtinfo2016.sort_values(['WijkenEnBuurten', 'attributes.TELJAAR']).fillna(method='pad')\n",
    "buurtinfo2016 = buurtinfo2016.sort_values(['WijkenEnBuurten', 'attributes.TELJAAR']).fillna(method='bfill')"
   ]
  },
  {
   "cell_type": "code",
   "execution_count": null,
   "metadata": {
    "collapsed": false
   },
   "outputs": [],
   "source": [
    "buurtinfo2016_filter = buurtinfo2016[buurtinfo2016['SoortRegio'].str.match('Buurt')]\n",
    "buurtinfo2016_filter['WijkenEnBuurten'] = buurtinfo2016_filter['WijkenEnBuurten'].map(lambda x: x[4:])\n",
    "buurtinfo2016_filter['WijkenEnBuurten'] = pd.to_numeric(buurtinfo2016_filter['WijkenEnBuurten'])\n",
    "buurtinfo2016_filter = buurtinfo2016_filter[buurtinfo2016_filter['WijkenEnBuurten'].isin(weights['WijkenEnBuurten'])]\n",
    "buurtinfo2016_filter['Zon_atlas'] = ground_truth['Zon_atlas'].values"
   ]
  },
  {
   "cell_type": "code",
   "execution_count": null,
   "metadata": {
    "collapsed": false
   },
   "outputs": [],
   "source": [
    "X_2016 = buurtinfo2016_filter[buurtinfo2016_filter.columns[2:]].values"
   ]
  },
  {
   "cell_type": "code",
   "execution_count": null,
   "metadata": {
    "collapsed": false
   },
   "outputs": [],
   "source": [
    "import lightgbm as lgb\n",
    "bst = lgb.Booster(model_file='../data/model.txt')\n",
    "y_pred = bst.predict(X_2016)"
   ]
  },
  {
   "cell_type": "code",
   "execution_count": null,
   "metadata": {
    "collapsed": false
   },
   "outputs": [],
   "source": [
    "weights = pd.read_csv(\"../data/buurt_weights.csv\",index_col=None)"
   ]
  },
  {
   "cell_type": "code",
   "execution_count": null,
   "metadata": {
    "collapsed": false
   },
   "outputs": [],
   "source": [
    "weights = weights[weights['WijkenEnBuurten'].isin(buurtinfo2017_filter['WijkenEnBuurten'])]\n",
    "weights['Zon_atlas'] = 0"
   ]
  },
  {
   "cell_type": "code",
   "execution_count": null,
   "metadata": {
    "collapsed": true
   },
   "outputs": [],
   "source": [
    "buurtinfo2016_filter = buurtinfo2016_filter.drop('SoortRegio',axis=1).drop('attributes.TELJAAR',axis=1)"
   ]
  },
  {
   "cell_type": "code",
   "execution_count": null,
   "metadata": {
    "collapsed": true
   },
   "outputs": [],
   "source": [
    "buurtinfo2016_filter.index = weights.index"
   ]
  },
  {
   "cell_type": "code",
   "execution_count": null,
   "metadata": {
    "collapsed": false
   },
   "outputs": [],
   "source": [
    "pred_2016 = y_pred\n",
    "true_2016 = ground_truth_number['predicted_nr_panels']"
   ]
  },
  {
   "cell_type": "code",
   "execution_count": null,
   "metadata": {
    "collapsed": true
   },
   "outputs": [],
   "source": [
    "pred_series = pd.Series(pred_2016)"
   ]
  },
  {
   "cell_type": "code",
   "execution_count": null,
   "metadata": {
    "collapsed": false
   },
   "outputs": [],
   "source": [
    "buurtinfo2016_filter.to_csv('../data/demo/buurtinfo2016.csv')\n",
    "true_2016.to_csv('../data/demo/true_labels.csv')\n",
    "pred_series.to_csv('../data/demo/pred_labels.csv')"
   ]
  },
  {
   "cell_type": "code",
   "execution_count": null,
   "metadata": {
    "collapsed": true
   },
   "outputs": [],
   "source": [
    "def pipeline(weights, buurtinfo2016_filter, true_2016, pred_2016):\n",
    "    for i in range(1,14):\n",
    "        weights_only = weights.copy()\n",
    "        weights_only = weights_only * i\n",
    "        weights_only['WijkenEnBuurten'] = 0\n",
    "        buurtinfo2016_multiplied = buurtinfo2016_filter.add(weights_only,fill_value=0)\n",
    "        diff = true_2016 - pred_2016\n",
    "        y_pred = bst.predict(buurtinfo2016_multiplied[buurtinfo2016_multiplied.columns[1:]].values)\n",
    "        y_pred = y_pred + diff\n",
    "        df_predicted = buurtinfo2016_multiplied[['WijkenEnBuurten']].copy()\n",
    "        df_predicted['year'] = 2016 + i\n",
    "        y_pred[y_pred<0] = 0\n",
    "        y_pred = fix_negatives(y_pred, true_2016.values)\n",
    "        df_predicted['predicted_nr_panels'] = y_pred\n",
    "        df_predicted.to_csv('../data/predictions/predictions_{}.csv'.format(2016 + i))"
   ]
  },
  {
   "cell_type": "code",
   "execution_count": null,
   "metadata": {
    "collapsed": true
   },
   "outputs": [],
   "source": [
    "def fix_negatives(y_pred, true_2016):\n",
    "    return_list = []\n",
    "    for i, value in enumerate(y_pred):\n",
    "        if value < true_2016[i]:\n",
    "            return_list.append(true_2016[i])\n",
    "        else:\n",
    "            return_list.append(value)\n",
    "    return return_list"
   ]
  },
  {
   "cell_type": "code",
   "execution_count": null,
   "metadata": {
    "collapsed": false
   },
   "outputs": [],
   "source": [
    "pipeline(weights, buurtinfo2016_filter, true_2016, pred_2016)"
   ]
  },
  {
   "cell_type": "code",
   "execution_count": null,
   "metadata": {
    "collapsed": false
   },
   "outputs": [],
   "source": [
    "ground_truth_number = ground_truth_number.rename(columns={'attributes.AANTAL_SUMMED':'predicted_nr_panels'})"
   ]
  },
  {
   "cell_type": "code",
   "execution_count": null,
   "metadata": {
    "collapsed": true
   },
   "outputs": [],
   "source": [
    "ground_truth_number.to_csv('../data/predictions/predictions_2016.csv')"
   ]
  }
 ],
 "metadata": {
  "kernelspec": {
   "display_name": "Python [conda env:lightgbm]",
   "language": "python",
   "name": "conda-env-lightgbm-py"
  },
  "language_info": {
   "codemirror_mode": {
    "name": "ipython",
    "version": 3
   },
   "file_extension": ".py",
   "mimetype": "text/x-python",
   "name": "python",
   "nbconvert_exporter": "python",
   "pygments_lexer": "ipython3",
   "version": "3.6.2"
  }
 },
 "nbformat": 4,
 "nbformat_minor": 2
}
