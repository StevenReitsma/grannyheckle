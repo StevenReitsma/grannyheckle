{
 "cells": [
  {
   "cell_type": "markdown",
   "metadata": {},
   "source": [
    "### Notebook for retrieving average roof quality per neighboorhood"
   ]
  },
  {
   "cell_type": "code",
   "execution_count": null,
   "metadata": {
    "collapsed": true
   },
   "outputs": [],
   "source": [
    "import numpy as np\n",
    "import pandas as pd\n",
    "import requests"
   ]
  },
  {
   "cell_type": "code",
   "execution_count": null,
   "metadata": {
    "collapsed": true
   },
   "outputs": [],
   "source": [
    "data = pd.read_csv('../data/groningen/pc6hnr20170801_gwb.csv', sep=';')"
   ]
  },
  {
   "cell_type": "code",
   "execution_count": null,
   "metadata": {
    "collapsed": true
   },
   "outputs": [],
   "source": [
    "# Only take data from Groningen\n",
    "data = data[data['Gem2017'] == 14]\n",
    "data = data.drop('Gem2017', axis=1)"
   ]
  },
  {
   "cell_type": "code",
   "execution_count": null,
   "metadata": {},
   "outputs": [],
   "source": [
    "data = data.groupby(\"Buurt2017\").head(30)\n",
    "data = np.asarray(data)"
   ]
  },
  {
   "cell_type": "markdown",
   "metadata": {},
   "source": [
    "##### First retrieve the coordinate data from argcis given a ps6 + number"
   ]
  },
  {
   "cell_type": "code",
   "execution_count": null,
   "metadata": {},
   "outputs": [],
   "source": [
    "from tqdm import tqdm\n",
    "from time import sleep\n",
    "info = []\n",
    "for entry in tqdm(data):\n",
    "    url = \"https://basisregistraties.arcgisonline.nl/arcgis/rest/services/BAG/BAGv2/MapServer/0/query?where=postcode%3D%27\" + entry[0]  + \"%27+AND+huisnummer%3D%27\" + str(entry[1]) + \"%27&text=&objectIds=&time=&geometry=&geometryType=esriGeometryPoint&inSR=&spatialRel=esriSpatialRelIntersects&relationParam=&outFields=*&returnGeometry=true&returnTrueCurves=false&maxAllowableOffset=&geometryPrecision=&outSR=3857&returnIdsOnly=false&returnCountOnly=false&orderByFields=&groupByFieldsForStatistics=&outStatistics=&returnZ=false&returnM=false&gdbVersion=&returnDistinctValues=false&resultOffset=&resultRecordCount=&queryByDistance=&returnExtentsOnly=false&datumTransformation=&parameterValues=&rangeValues=&f=pjson\"\n",
    "    contents = requests.get(url).json()\n",
    "    sleep(0.05)\n",
    "    try:\n",
    "        d = contents['features'][0]['geometry']\n",
    "        long = d['x']\n",
    "        lat = d['y']\n",
    "        info.append([entry[0], entry[1], entry[2], long, lat])\n",
    "    except:\n",
    "        continue"
   ]
  },
  {
   "cell_type": "markdown",
   "metadata": {},
   "source": [
    "##### Then retrieve the item id zonatlas uses to identify the building on that coordinate"
   ]
  },
  {
   "cell_type": "code",
   "execution_count": null,
   "metadata": {},
   "outputs": [],
   "source": [
    "out = []\n",
    "for row in info[:]:\n",
    "    url = \"http://detailshera.zonatlas.nl/groningen/query?olon={}&olat={}&active_topic=pv\".format(row[3], row[4])\n",
    "    contents = requests.get(url)\n",
    "    try:\n",
    "        d = contents.json()['item_id']\n",
    "        r = list(row)\n",
    "        r.append(d)\n",
    "        out.append(r)\n",
    "    except:\n",
    "        continue"
   ]
  },
  {
   "cell_type": "markdown",
   "metadata": {},
   "source": [
    "##### Then retrieve the roof quality on these adresses per building"
   ]
  },
  {
   "cell_type": "code",
   "execution_count": null,
   "metadata": {},
   "outputs": [],
   "source": [
    "done = []\n",
    "for row in out:\n",
    "    url = 'http://detailshera.zonatlas.nl/groningen/query/building/{}?pv=1&_=15273287'.format(row[-1])\n",
    "    contents = requests.get(url)\n",
    "    k = None\n",
    "    if(\"t\\\">Zeer geschikt\" in contents.text):\n",
    "        k = 2\n",
    "    elif(\"t\\\">Geschikt\" in contents.text):\n",
    "        k = 1\n",
    "    else:\n",
    "        k = 0\n",
    "    r = list(row)\n",
    "    r.append(k)\n",
    "    done.append(r)"
   ]
  },
  {
   "cell_type": "markdown",
   "metadata": {},
   "source": [
    "##### Aggegrate the data per neighboorhood and save to csv"
   ]
  },
  {
   "cell_type": "code",
   "execution_count": null,
   "metadata": {
    "collapsed": true
   },
   "outputs": [],
   "source": [
    "df = pd.DataFrame(done, columns=['postalcode', 'number', 'buurt', 'long', 'lat', 'obj_id', 'score'])\n",
    "df[['long', 'lat']] = df[['long', 'lat']].apply(pd.to_numeric)\n",
    "df.groupby('buurt').mean()[['long', 'lat']].to_csv('longlatbuurt.csv')\n",
    "df.to_csv('longlatperbuurt.csv')"
   ]
  }
 ],
 "metadata": {
  "kernelspec": {
   "display_name": "Python 3",
   "language": "python",
   "name": "python3"
  },
  "language_info": {
   "codemirror_mode": {
    "name": "ipython",
    "version": 3
   },
   "file_extension": ".py",
   "mimetype": "text/x-python",
   "name": "python",
   "nbconvert_exporter": "python",
   "pygments_lexer": "ipython3",
   "version": "3.6.1"
  }
 },
 "nbformat": 4,
 "nbformat_minor": 2
}
