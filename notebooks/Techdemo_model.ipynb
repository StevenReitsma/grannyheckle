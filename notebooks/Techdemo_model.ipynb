{
 "cells": [
  {
   "cell_type": "markdown",
   "metadata": {},
   "source": [
    "## Imports"
   ]
  },
  {
   "cell_type": "code",
   "execution_count": 9,
   "metadata": {
    "collapsed": true
   },
   "outputs": [],
   "source": [
    "import pandas as pd\n",
    "import numpy as np\n",
    "import lightgbm as lgb\n",
    "from sklearn.metrics import mean_squared_error\n",
    "\n",
    "pd.options.display.max_columns = 999"
   ]
  },
  {
   "cell_type": "markdown",
   "metadata": {},
   "source": [
    "## Load Data"
   ]
  },
  {
   "cell_type": "code",
   "execution_count": 27,
   "metadata": {
    "collapsed": true
   },
   "outputs": [],
   "source": [
    "train_data = pd.read_csv('../data/demo/train_data.csv')\n",
    "weights = pd.read_csv('../data/demo/buurt_weights.csv')"
   ]
  },
  {
   "cell_type": "markdown",
   "metadata": {},
   "source": [
    "## Preprocess"
   ]
  },
  {
   "cell_type": "code",
   "execution_count": 29,
   "metadata": {
    "collapsed": false
   },
   "outputs": [],
   "source": [
    "train_data = train_data.drop(\"WijkenEnBuurten\", axis=1).drop(\"SoortRegio\", axis=1).drop(train_data.columns[0], axis=1).drop(\"attributes.TELJAAR\",axis=1)\n",
    "msk = np.random.rand(len(train_data)) < 0.9\n",
    "train_set = train_data[msk]\n",
    "test_set = train_data[~msk]\n",
    "\n",
    "y_train = train_set['attributes.AANTAL_SUMMED'].values\n",
    "X_train = train_set.drop('attributes.AANTAL_SUMMED', axis=1).drop('attributes.AANTAL',axis=1).values\n",
    "y_test = test_set['attributes.AANTAL_SUMMED'].values\n",
    "X_test = test_set.drop('attributes.AANTAL_SUMMED', axis=1).drop('attributes.AANTAL',axis=1).values\n",
    "\n",
    "lgb_train = lgb.Dataset(X_train, y_train)\n",
    "lgb_eval = lgb.Dataset(X_test, y_test, reference=lgb_train)"
   ]
  },
  {
   "cell_type": "markdown",
   "metadata": {},
   "source": [
    "## Train"
   ]
  },
  {
   "cell_type": "code",
   "execution_count": 30,
   "metadata": {
    "collapsed": false
   },
   "outputs": [
    {
     "name": "stdout",
     "output_type": "stream",
     "text": [
      "Start training...\n",
      "[1]\tvalid_0's rmse: 197.019\tvalid_0's l2: 38816.7\n",
      "Training until validation scores don't improve for 10 rounds.\n",
      "[2]\tvalid_0's rmse: 192.147\tvalid_0's l2: 36920.6\n",
      "[3]\tvalid_0's rmse: 186.738\tvalid_0's l2: 34871\n",
      "[4]\tvalid_0's rmse: 182.389\tvalid_0's l2: 33265.6\n",
      "[5]\tvalid_0's rmse: 176.8\tvalid_0's l2: 31258.1\n",
      "[6]\tvalid_0's rmse: 171.366\tvalid_0's l2: 29366.4\n",
      "[7]\tvalid_0's rmse: 166.797\tvalid_0's l2: 27821.3\n",
      "[8]\tvalid_0's rmse: 160.377\tvalid_0's l2: 25720.9\n",
      "[9]\tvalid_0's rmse: 156.548\tvalid_0's l2: 24507.2\n",
      "[10]\tvalid_0's rmse: 152.467\tvalid_0's l2: 23246.1\n",
      "[11]\tvalid_0's rmse: 151.808\tvalid_0's l2: 23045.5\n",
      "[12]\tvalid_0's rmse: 151.164\tvalid_0's l2: 22850.5\n",
      "[13]\tvalid_0's rmse: 150.733\tvalid_0's l2: 22720.3\n",
      "[14]\tvalid_0's rmse: 147.71\tvalid_0's l2: 21818.4\n",
      "[15]\tvalid_0's rmse: 147.465\tvalid_0's l2: 21745.8\n",
      "[16]\tvalid_0's rmse: 145.328\tvalid_0's l2: 21120.3\n",
      "[17]\tvalid_0's rmse: 142.889\tvalid_0's l2: 20417.4\n",
      "[18]\tvalid_0's rmse: 141.209\tvalid_0's l2: 19940.1\n",
      "[19]\tvalid_0's rmse: 139.92\tvalid_0's l2: 19577.7\n",
      "[20]\tvalid_0's rmse: 139.697\tvalid_0's l2: 19515.1\n",
      "[21]\tvalid_0's rmse: 138.009\tvalid_0's l2: 19046.6\n",
      "[22]\tvalid_0's rmse: 136.798\tvalid_0's l2: 18713.8\n",
      "[23]\tvalid_0's rmse: 135.781\tvalid_0's l2: 18436.4\n",
      "[24]\tvalid_0's rmse: 135.182\tvalid_0's l2: 18274.3\n",
      "[25]\tvalid_0's rmse: 135.132\tvalid_0's l2: 18260.7\n",
      "[26]\tvalid_0's rmse: 131.821\tvalid_0's l2: 17376.9\n",
      "[27]\tvalid_0's rmse: 129.621\tvalid_0's l2: 16801.5\n",
      "[28]\tvalid_0's rmse: 129.762\tvalid_0's l2: 16838.3\n",
      "[29]\tvalid_0's rmse: 129.917\tvalid_0's l2: 16878.5\n",
      "[30]\tvalid_0's rmse: 128.17\tvalid_0's l2: 16427.7\n",
      "[31]\tvalid_0's rmse: 126.889\tvalid_0's l2: 16100.9\n",
      "[32]\tvalid_0's rmse: 125.233\tvalid_0's l2: 15683.3\n",
      "[33]\tvalid_0's rmse: 125.046\tvalid_0's l2: 15636.6\n",
      "[34]\tvalid_0's rmse: 125.452\tvalid_0's l2: 15738.2\n",
      "[35]\tvalid_0's rmse: 124.808\tvalid_0's l2: 15576.9\n",
      "[36]\tvalid_0's rmse: 124.439\tvalid_0's l2: 15485.1\n",
      "[37]\tvalid_0's rmse: 124.87\tvalid_0's l2: 15592.5\n",
      "[38]\tvalid_0's rmse: 124.162\tvalid_0's l2: 15416.3\n",
      "[39]\tvalid_0's rmse: 124.155\tvalid_0's l2: 15414.4\n",
      "[40]\tvalid_0's rmse: 124.75\tvalid_0's l2: 15562.6\n",
      "[41]\tvalid_0's rmse: 122.746\tvalid_0's l2: 15066.6\n",
      "[42]\tvalid_0's rmse: 123.318\tvalid_0's l2: 15207.4\n",
      "[43]\tvalid_0's rmse: 122.578\tvalid_0's l2: 15025.4\n",
      "[44]\tvalid_0's rmse: 121.002\tvalid_0's l2: 14641.6\n",
      "[45]\tvalid_0's rmse: 120.324\tvalid_0's l2: 14477.8\n",
      "[46]\tvalid_0's rmse: 119.915\tvalid_0's l2: 14379.6\n",
      "[47]\tvalid_0's rmse: 119.63\tvalid_0's l2: 14311.3\n",
      "[48]\tvalid_0's rmse: 118.722\tvalid_0's l2: 14094.9\n",
      "[49]\tvalid_0's rmse: 118.489\tvalid_0's l2: 14039.7\n",
      "[50]\tvalid_0's rmse: 117.817\tvalid_0's l2: 13880.9\n",
      "[51]\tvalid_0's rmse: 117.176\tvalid_0's l2: 13730.2\n",
      "[52]\tvalid_0's rmse: 117.566\tvalid_0's l2: 13821.7\n",
      "[53]\tvalid_0's rmse: 117.311\tvalid_0's l2: 13761.8\n",
      "[54]\tvalid_0's rmse: 117.336\tvalid_0's l2: 13767.8\n",
      "[55]\tvalid_0's rmse: 117.432\tvalid_0's l2: 13790.4\n",
      "[56]\tvalid_0's rmse: 116.627\tvalid_0's l2: 13601.8\n",
      "[57]\tvalid_0's rmse: 115.939\tvalid_0's l2: 13441.9\n",
      "[58]\tvalid_0's rmse: 115.485\tvalid_0's l2: 13336.8\n",
      "[59]\tvalid_0's rmse: 115.998\tvalid_0's l2: 13455.5\n",
      "[60]\tvalid_0's rmse: 115.077\tvalid_0's l2: 13242.7\n",
      "[61]\tvalid_0's rmse: 114.37\tvalid_0's l2: 13080.5\n",
      "[62]\tvalid_0's rmse: 113.999\tvalid_0's l2: 12995.9\n",
      "[63]\tvalid_0's rmse: 113.834\tvalid_0's l2: 12958.1\n",
      "[64]\tvalid_0's rmse: 113.469\tvalid_0's l2: 12875.2\n",
      "[65]\tvalid_0's rmse: 113.202\tvalid_0's l2: 12814.7\n",
      "[66]\tvalid_0's rmse: 113.026\tvalid_0's l2: 12775\n",
      "[67]\tvalid_0's rmse: 112.972\tvalid_0's l2: 12762.7\n",
      "[68]\tvalid_0's rmse: 113.352\tvalid_0's l2: 12848.7\n",
      "[69]\tvalid_0's rmse: 112.868\tvalid_0's l2: 12739.2\n",
      "[70]\tvalid_0's rmse: 111.934\tvalid_0's l2: 12529.2\n",
      "[71]\tvalid_0's rmse: 112.585\tvalid_0's l2: 12675.3\n",
      "[72]\tvalid_0's rmse: 113.035\tvalid_0's l2: 12776.9\n",
      "[73]\tvalid_0's rmse: 113.579\tvalid_0's l2: 12900.2\n",
      "[74]\tvalid_0's rmse: 113.607\tvalid_0's l2: 12906.6\n",
      "[75]\tvalid_0's rmse: 114.192\tvalid_0's l2: 13039.8\n",
      "[76]\tvalid_0's rmse: 112.951\tvalid_0's l2: 12757.9\n",
      "[77]\tvalid_0's rmse: 112.746\tvalid_0's l2: 12711.8\n",
      "[78]\tvalid_0's rmse: 111.383\tvalid_0's l2: 12406.2\n",
      "[79]\tvalid_0's rmse: 110.26\tvalid_0's l2: 12157.3\n",
      "[80]\tvalid_0's rmse: 110.14\tvalid_0's l2: 12130.9\n",
      "[81]\tvalid_0's rmse: 109.81\tvalid_0's l2: 12058.2\n",
      "[82]\tvalid_0's rmse: 110.6\tvalid_0's l2: 12232.3\n",
      "[83]\tvalid_0's rmse: 110.9\tvalid_0's l2: 12298.8\n",
      "[84]\tvalid_0's rmse: 110.244\tvalid_0's l2: 12153.8\n",
      "[85]\tvalid_0's rmse: 110.115\tvalid_0's l2: 12125.4\n",
      "[86]\tvalid_0's rmse: 110.809\tvalid_0's l2: 12278.7\n",
      "[87]\tvalid_0's rmse: 110.001\tvalid_0's l2: 12100.2\n",
      "[88]\tvalid_0's rmse: 109.636\tvalid_0's l2: 12020\n",
      "[89]\tvalid_0's rmse: 109.219\tvalid_0's l2: 11928.8\n",
      "[90]\tvalid_0's rmse: 108.984\tvalid_0's l2: 11877.5\n",
      "[91]\tvalid_0's rmse: 109.098\tvalid_0's l2: 11902.3\n",
      "[92]\tvalid_0's rmse: 109.394\tvalid_0's l2: 11967.1\n",
      "[93]\tvalid_0's rmse: 109.707\tvalid_0's l2: 12035.7\n",
      "[94]\tvalid_0's rmse: 109.451\tvalid_0's l2: 11979.5\n",
      "[95]\tvalid_0's rmse: 109.376\tvalid_0's l2: 11963.1\n",
      "[96]\tvalid_0's rmse: 109.171\tvalid_0's l2: 11918.4\n",
      "[97]\tvalid_0's rmse: 109.141\tvalid_0's l2: 11911.8\n",
      "[98]\tvalid_0's rmse: 108.628\tvalid_0's l2: 11799.9\n",
      "[99]\tvalid_0's rmse: 108.488\tvalid_0's l2: 11769.6\n",
      "[100]\tvalid_0's rmse: 108.564\tvalid_0's l2: 11786.1\n",
      "[101]\tvalid_0's rmse: 109.251\tvalid_0's l2: 11935.8\n",
      "[102]\tvalid_0's rmse: 109.1\tvalid_0's l2: 11902.7\n",
      "[103]\tvalid_0's rmse: 109.754\tvalid_0's l2: 12045.9\n",
      "[104]\tvalid_0's rmse: 110.43\tvalid_0's l2: 12194.8\n",
      "[105]\tvalid_0's rmse: 111.117\tvalid_0's l2: 12346.9\n",
      "[106]\tvalid_0's rmse: 111.382\tvalid_0's l2: 12406\n",
      "[107]\tvalid_0's rmse: 111.71\tvalid_0's l2: 12479.2\n",
      "[108]\tvalid_0's rmse: 110.893\tvalid_0's l2: 12297.3\n",
      "[109]\tvalid_0's rmse: 110.601\tvalid_0's l2: 12232.6\n",
      "Early stopping, best iteration is:\n",
      "[99]\tvalid_0's rmse: 108.488\tvalid_0's l2: 11769.6\n"
     ]
    }
   ],
   "source": [
    "params = {\n",
    "    'task': 'train',\n",
    "    'boosting_type': 'gbdt',\n",
    "    'objective': 'regression',\n",
    "    'metric': {'l2', 'rmse'},\n",
    "    'num_leaves': 127,\n",
    "    'learning_rate': 0.05,\n",
    "    'feature_fraction': 0.9,\n",
    "    'bagging_fraction': 0.8,\n",
    "    'bagging_freq': 5,\n",
    "    'verbose': 0\n",
    "}\n",
    "\n",
    "print('Start training...')\n",
    "# train\n",
    "gbm = lgb.train(params,\n",
    "                lgb_train,\n",
    "                num_boost_round=500,\n",
    "                valid_sets=lgb_eval,\n",
    "                early_stopping_rounds=10)"
   ]
  },
  {
   "cell_type": "markdown",
   "metadata": {},
   "source": [
    "## Predict"
   ]
  },
  {
   "cell_type": "code",
   "execution_count": 31,
   "metadata": {
    "collapsed": false
   },
   "outputs": [
    {
     "name": "stdout",
     "output_type": "stream",
     "text": [
      "Start predicting...\n",
      "[ 160.46000968   90.9784461   458.32850491  221.24756678  213.6460343\n",
      "  438.13907425   26.85982057  287.6866179   204.09359427  491.97877468\n",
      "  128.15078647  131.60888832   40.67174245  -16.31587309  423.15508441\n",
      "   56.8447592    94.29284608   -4.57766604  422.72380683   91.35714189\n",
      "   -1.41634664  292.92853837  414.45237911  183.52680257]\n",
      "[  48.    0.  608.   77.  312.  379.    0.  426.    0.  669.  169.   47.\n",
      "   47.   27.  521.  116.  127.    0.  157.   17.    0.  262.  350.  105.]\n",
      "The rmse of prediction is: 108.488003085\n",
      "The rmse of baseline is: 202.519381167\n"
     ]
    }
   ],
   "source": [
    "print('Start predicting...')\n",
    "# predict\n",
    "y_pred = gbm.predict(X_test, num_iteration=gbm.best_iteration)\n",
    "print(y_pred)\n",
    "print(y_test)\n",
    "baseline = [np.mean(y_train)] * len(y_test)\n",
    "# eval\n",
    "print('The rmse of prediction is:', mean_squared_error(y_test, y_pred) ** 0.5)\n",
    "print('The rmse of baseline is:', mean_squared_error(baseline, y_test) ** 0.5)"
   ]
  },
  {
   "cell_type": "markdown",
   "metadata": {},
   "source": [
    "## Validate"
   ]
  },
  {
   "cell_type": "code",
   "execution_count": null,
   "metadata": {
    "collapsed": false
   },
   "outputs": [],
   "source": [
    "zipped = zip(gbm.feature_importance(),train_set.drop('attributes.AANTAL_SUMMED', axis=1).drop('attributes.AANTAL',axis=1).columns[1:])\n",
    "zipped = sorted(zipped, key = lambda t: t[0], reverse=True)\n",
    "for importance, column in zipped:\n",
    "    print(\"Feature {} has an importance weight of {}\".format(column,importance))"
   ]
  },
  {
   "cell_type": "markdown",
   "metadata": {},
   "source": [
    "## Future predictions pipeline"
   ]
  },
  {
   "cell_type": "code",
   "execution_count": 115,
   "metadata": {
    "collapsed": false
   },
   "outputs": [],
   "source": [
    "buurtinfo2016 = pd.read_csv('../data/demo/buurtinfo2016.csv')\n",
    "true_labels = pd.read_csv('../data/demo/true_labels.csv',index_col=0, header=None)\n",
    "predictions = pd.read_csv('../data/demo/pred_labels.csv',index_col=0, header=None)\n",
    "weights = weights[weights['WijkenEnBuurten'].isin(buurtinfo2016['WijkenEnBuurten'].values)]\n",
    "weights.index = buurtinfo2016.index"
   ]
  },
  {
   "cell_type": "code",
   "execution_count": 116,
   "metadata": {
    "collapsed": true
   },
   "outputs": [],
   "source": [
    "def fix_negatives(y_pred, true_2016):\n",
    "    return_list = []\n",
    "    for i, value in enumerate(y_pred):\n",
    "        if value < true_2016[i][0]:\n",
    "            return_list.append(true_2016[i][0])\n",
    "        else:\n",
    "            return_list.append(value)\n",
    "    return return_list"
   ]
  },
  {
   "cell_type": "code",
   "execution_count": 119,
   "metadata": {
    "collapsed": true
   },
   "outputs": [],
   "source": [
    "def pipeline(weights, buurtinfo2016, true_2016, pred_2016):\n",
    "    for i in range(1,14):\n",
    "        weights_only = weights.copy()\n",
    "        weights_only = weights_only * i\n",
    "        weights_only['WijkenEnBuurten'] = 0\n",
    "        buurtinfo2016_multiplied = buurtinfo2016.add(weights_only,fill_value=0)\n",
    "        diff = true_2016.values - pred_2016.values\n",
    "        diff = np.array(list(map(lambda x: x[0], diff)))\n",
    "        y_pred = gbm.predict(buurtinfo2016_multiplied[buurtinfo2016_multiplied.columns[2:]].values)\n",
    "        \n",
    "        y_pred = y_pred + diff\n",
    "        df_predicted = buurtinfo2016_multiplied[['WijkenEnBuurten']].copy()\n",
    "        df_predicted['year'] = 2016 + i\n",
    "        y_pred[y_pred<0] = 0\n",
    "        y_pred = fix_negatives(y_pred, true_2016.values)\n",
    "        df_predicted['predicted_nr_panels'] = y_pred\n",
    "        df_predicted.to_csv('../data/demo/predictions_{}.csv'.format(2016 + i))\n",
    "        print(\"Predicted {} and wrote to file\".format(2016+i))"
   ]
  },
  {
   "cell_type": "code",
   "execution_count": 120,
   "metadata": {
    "collapsed": false
   },
   "outputs": [
    {
     "name": "stdout",
     "output_type": "stream",
     "text": [
      "Predicted 2017 and wrote to file\n",
      "Predicted 2018 and wrote to file\n",
      "Predicted 2019 and wrote to file\n",
      "Predicted 2020 and wrote to file\n",
      "Predicted 2021 and wrote to file\n",
      "Predicted 2022 and wrote to file\n",
      "Predicted 2023 and wrote to file\n",
      "Predicted 2024 and wrote to file\n",
      "Predicted 2025 and wrote to file\n",
      "Predicted 2026 and wrote to file\n",
      "Predicted 2027 and wrote to file\n",
      "Predicted 2028 and wrote to file\n",
      "Predicted 2029 and wrote to file\n"
     ]
    }
   ],
   "source": [
    "pipeline(weights, buurtinfo2016, true_labels, predictions)"
   ]
  }
 ],
 "metadata": {
  "kernelspec": {
   "display_name": "Python [conda env:lightgbm]",
   "language": "python",
   "name": "conda-env-lightgbm-py"
  },
  "language_info": {
   "codemirror_mode": {
    "name": "ipython",
    "version": 3
   },
   "file_extension": ".py",
   "mimetype": "text/x-python",
   "name": "python",
   "nbconvert_exporter": "python",
   "pygments_lexer": "ipython3",
   "version": "3.6.2"
  }
 },
 "nbformat": 4,
 "nbformat_minor": 2
}
