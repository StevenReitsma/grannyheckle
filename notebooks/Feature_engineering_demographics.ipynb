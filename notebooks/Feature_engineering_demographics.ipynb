{
 "cells": [
  {
   "cell_type": "markdown",
   "metadata": {},
   "source": [
    "### Imports"
   ]
  },
  {
   "cell_type": "code",
   "execution_count": null,
   "metadata": {
    "collapsed": true
   },
   "outputs": [],
   "source": [
    "import pandas as pd\n",
    "import numpy as np\n",
    "import json\n",
    "from pandas.io.json import json_normalize    \n",
    "import sklearn\n",
    "import re\n",
    "\n",
    "pd.options.display.max_columns = 999\n",
    "from IPython.display import display, HTML"
   ]
  },
  {
   "cell_type": "markdown",
   "metadata": {},
   "source": [
    "### Load data"
   ]
  },
  {
   "cell_type": "code",
   "execution_count": null,
   "metadata": {
    "collapsed": true
   },
   "outputs": [],
   "source": [
    "def sum_years(buurtinfo_merged, row):\n",
    "    year = row.loc['attributes.TELJAAR']\n",
    "    buurt = row.loc['WijkenEnBuurten']\n",
    "    buurtinfo_merged_filter = buurtinfo_merged[buurtinfo_merged['WijkenEnBuurten']==buurt]\n",
    "    aantal = buurtinfo_merged_filter[buurtinfo_merged_filter['attributes.TELJAAR'] <= year]['attributes.AANTAL'].sum()\n",
    "    return aantal"
   ]
  },
  {
   "cell_type": "code",
   "execution_count": null,
   "metadata": {
    "collapsed": true
   },
   "outputs": [],
   "source": [
    "def change_duplicate_columns(columns):\n",
    "    seen = []\n",
    "    final = []\n",
    "    for column in columns:\n",
    "        if column in seen:\n",
    "            final.append(column + '1')\n",
    "        else:\n",
    "            final.append(column)\n",
    "        seen.append(column)\n",
    "    return final\n",
    "    "
   ]
  },
  {
   "cell_type": "code",
   "execution_count": null,
   "metadata": {
    "collapsed": true
   },
   "outputs": [],
   "source": [
    "def remove_numbers(columname):\n",
    "    splitted = columname.split('_')\n",
    "    if len(splitted) > 1:\n",
    "        splitted = splitted[:-1]\n",
    "        if len(splitted) > 1:\n",
    "            return '_'.join(splitted)\n",
    "    return splitted[0]"
   ]
  },
  {
   "cell_type": "code",
   "execution_count": null,
   "metadata": {
    "collapsed": false,
    "scrolled": true
   },
   "outputs": [],
   "source": [
    "to_keep = ['WijkenEnBuurten', 'SoortRegio',\n",
    "'AantalInwoners', 'Mannen', 'Vrouwen',\n",
    "'k_0Tot15Jaar', 'k_15Tot25Jaar', 'k_25Tot45Jaar', 'k_45Tot65Jaar',\n",
    "'k_65JaarOfOuder', 'Ongehuwd', 'Gehuwd', 'Gescheiden', 'Verweduwd',\n",
    "'WestersTotaal', 'NietWestersTotaal',\n",
    "'GeboorteRelatief', 'SterfteRelatief', 'HuishoudensTotaal',\n",
    "'Eenpersoonshuishoudens', 'HuishoudensZonderKinderen',\n",
    "'HuishoudensMetKinderen', 'GemiddeldeHuishoudensgrootte',\n",
    "'Bevolkingsdichtheid', 'Woningvoorraad', 'GemiddeldeWoningwaarde',\n",
    "'PercentageEengezinswoning', 'PercentageMeergezinswoning',\n",
    "'PercentageBewoond', 'Koopwoningen',\n",
    "'HuurwoningenTotaal', 'InBezitWoningcorporatie', 'InBezitOverigeVerhuurders',\n",
    "'BouwjaarVoor2000', 'BouwjaarVanaf2000',\n",
    "'GemiddeldElektriciteitsverbruikTotaal', 'Appartement', 'Tussenwoning',\n",
    "'Hoekwoning', 'TweeOnderEenKapWoning', 'VrijstaandeWoning', 'Huurwoning', 'GemiddeldAardgasverbruikTotaal',\n",
    "'AantalInkomensontvangers', 'GemiddeldInkomenPerInkomensontvanger',\n",
    "'GemiddeldInkomenPerInwoner', 'k_40PersonenMetLaagsteInkomen',\n",
    "'k_20PersonenMetHoogsteInkomen', 'k_20HuishoudensMetHoogsteInkomen',\n",
    "'HuishoudensMetEenLaagInkomen', 'HuishOnderOfRondSociaalMinimum',\n",
    "'BedrijfsvestigingenTotaal',\n",
    "'PersonenautoSTotaal', 'PersonenautoSJongerDan6Jaar',\n",
    "'PersonenautoS6JaarEnOuder', 'PersonenautoSBrandstofBenzine',\n",
    "'PersonenautoSOverigeBrandstof', 'PersonenautoSPerHuishouden',\n",
    "'PersonenautoSNaarOppervlakte', 'Motorfietsen',\n",
    "'MateVanStedelijkheid','Omgevingsadressendichtheid']\n",
    "\n",
    "buurtinfo2017 = pd.read_csv('../data/groningen/groningen_kern2017.csv',sep=';', encoding = \"ISO-8859-1\", skipinitialspace=True)\n",
    "columns = buurtinfo2017.columns.map(remove_numbers)\n",
    "buurtinfo2017.columns = columns\n",
    "buurtinfo2017 = buurtinfo2017[to_keep]\n",
    "buurtinfo2017['attributes.TELJAAR'] = 2017\n",
    "buurtinfo2017.columns = change_duplicate_columns(buurtinfo2017.columns)\n",
    "\n",
    "buurtinfo2016 = pd.read_csv('../data/groningen/groningen_kern2016.csv',sep=';', encoding = \"ISO-8859-1\", skipinitialspace=True)\n",
    "columns = buurtinfo2016.columns.map(remove_numbers)\n",
    "buurtinfo2016.columns = columns\n",
    "buurtinfo2016 = buurtinfo2016[to_keep]\n",
    "buurtinfo2016['attributes.TELJAAR'] = 2016\n",
    "buurtinfo2016.columns = change_duplicate_columns(buurtinfo2016.columns)\n",
    "\n",
    "buurtinfo2015 = pd.read_csv('../data/groningen/groningen_kern2015.csv',sep=';', encoding = \"ISO-8859-1\", skipinitialspace=True)\n",
    "columns = buurtinfo2015.columns.map(remove_numbers)\n",
    "buurtinfo2015.columns = columns\n",
    "buurtinfo2015 = buurtinfo2015[to_keep]\n",
    "buurtinfo2015['attributes.TELJAAR'] = 2015\n",
    "buurtinfo2015.columns = change_duplicate_columns(buurtinfo2015.columns)\n",
    "\n",
    "buurtinfo2014 = pd.read_csv('../data/groningen/groningen_kern2014.csv',sep=';', encoding = \"ISO-8859-1\", skipinitialspace=True)\n",
    "columns = buurtinfo2014.columns.map(remove_numbers)\n",
    "buurtinfo2014.columns = columns\n",
    "buurtinfo2014 = buurtinfo2014.rename(columns={'Motortweewielers':'Motorfietsen'})\n",
    "buurtinfo2014 = buurtinfo2014[to_keep]\n",
    "buurtinfo2014['attributes.TELJAAR'] = 2014\n",
    "buurtinfo2014.columns = change_duplicate_columns(buurtinfo2014.columns)\n",
    "\n",
    "buurtinfo2013 = pd.read_csv('../data/groningen/groningen_kern2013.csv',sep=';', encoding = \"ISO-8859-1\", skipinitialspace=True)\n",
    "columns = buurtinfo2013.columns.map(bla)\n",
    "buurtinfo2013.columns = columns\n",
    "buurtinfo2013 = buurtinfo2013.rename(columns={'RegioS':'WijkenEnBuurten'})\n",
    "buurtinfo2013 = buurtinfo2013.rename(columns={'Motortweewielers':'Motorfietsen'})\n",
    "buurtinfo2013 = buurtinfo2013.rename(columns={'PersonenMetLaagInkomen':'k_40PersonenMetLaagsteInkomen'})\n",
    "buurtinfo2013 = buurtinfo2013.rename(columns={'PersonenMetHoogInkomen':'k_20PersonenMetHoogsteInkomen'})\n",
    "buurtinfo2013 = buurtinfo2013.rename(columns={'HuishoudensMetLaagInkomen':'HuishoudensMetEenLaagInkomen'})\n",
    "buurtinfo2013 = buurtinfo2013.rename(columns={'HuishoudensMetHoogInkomen':'k_20HuishoudensMetHoogsteInkomen'})\n",
    "buurtinfo2013 = buurtinfo2013[to_keep]\n",
    "buurtinfo2013['attributes.TELJAAR'] = 2013\n",
    "buurtinfo2013.columns = change_duplicate_columns(buurtinfo2013.columns)\n",
    "\n",
    "buurtinfo = pd.concat([buurtinfo2013,buurtinfo2014,buurtinfo2015,buurtinfo2016,buurtinfo2017], axis=0, ignore_index=True)\n",
    "buurtinfo = buurtinfo[buurtinfo['SoortRegio'].str.strip() == 'Buurt']\n",
    "\n",
    "buurtinfo['WijkenEnBuurten'] = buurtinfo['WijkenEnBuurten'].map(lambda x: int(x.lstrip('BU00')))\n",
    "buurtinfo"
   ]
  },
  {
   "cell_type": "code",
   "execution_count": null,
   "metadata": {
    "collapsed": true
   },
   "outputs": [],
   "source": [
    "zonnepanelen = pd.read_csv('../data/groningen/zonnepanelen_buurtcodes.csv', encoding = \"ISO-8859-1\", skipinitialspace=True)\n",
    "zonnepanelen = zonnepanelen.rename(columns={'Buurt2017':'WijkenEnBuurten'})\n",
    "zonnepanelen = zonnepanelen.dropna(subset=[\"WijkenEnBuurten\"])\n",
    "zonnepanelen['WijkenEnBuurten'] = zonnepanelen['WijkenEnBuurten'].map(int)\n",
    "zonnepanelen = zonnepanelen.groupby(['attributes.TELJAAR', 'WijkenEnBuurten'], as_index=False).sum()\n",
    "buurtinfo_merged = buurtinfo.merge(zonnepanelen[['attributes.TELJAAR', 'WijkenEnBuurten', 'attributes.AANTAL']], on=['attributes.TELJAAR', 'WijkenEnBuurten'], how='left')"
   ]
  },
  {
   "cell_type": "code",
   "execution_count": null,
   "metadata": {
    "collapsed": false
   },
   "outputs": [],
   "source": [
    "buurtinfo_merged.loc[buurtinfo_merged['attributes.AANTAL'].isnull(),'attributes.AANTAL'] = 0\n",
    "buurtinfo_merged = buurtinfo_merged[buurtinfo_merged['attributes.TELJAAR']!=2017]\n",
    "\n"
   ]
  },
  {
   "cell_type": "code",
   "execution_count": null,
   "metadata": {
    "collapsed": false,
    "scrolled": true
   },
   "outputs": [],
   "source": [
    "buurtinfo_merged.dtypes"
   ]
  },
  {
   "cell_type": "code",
   "execution_count": null,
   "metadata": {
    "collapsed": true
   },
   "outputs": [],
   "source": [
    "buurtinfo_merged['attributes.AANTAL_SUMMED'] = buurtinfo_merged.apply(lambda row: sum_years(buurtinfo_merged, row), axis=1)"
   ]
  },
  {
   "cell_type": "code",
   "execution_count": null,
   "metadata": {
    "collapsed": true
   },
   "outputs": [],
   "source": [
    "def replace_dots(value):\n",
    "    try:\n",
    "        value = pd.to_numeric(value)\n",
    "        return value\n",
    "    except:\n",
    "        return np.nan"
   ]
  },
  {
   "cell_type": "code",
   "execution_count": null,
   "metadata": {
    "collapsed": true
   },
   "outputs": [],
   "source": [
    "for x in buurtinfo_merged.columns[2:]:\n",
    "    buurtinfo_merged[x] = buurtinfo_merged[x].map(lambda y: replace_dots(y))\n",
    "\n",
    "buurtinfo_merged = buurtinfo_merged.sort_values(['WijkenEnBuurten', 'attributes.TELJAAR']).fillna(method='pad')\n",
    "buurtinfo_merged = buurtinfo_merged.sort_values(['WijkenEnBuurten', 'attributes.TELJAAR']).fillna(method='bfill')"
   ]
  },
  {
   "cell_type": "markdown",
   "metadata": {
    "scrolled": false
   },
   "source": [
    "## Add zonatlas"
   ]
  },
  {
   "cell_type": "code",
   "execution_count": null,
   "metadata": {
    "collapsed": false,
    "scrolled": true
   },
   "outputs": [],
   "source": [
    "zon_atlas = pd.read_csv('../data/zon_atlas.csv', encoding = \"ISO-8859-1\", skipinitialspace=True)\n",
    "\n",
    "buurtinfo_zon = buurtinfo_merged.merge(zon_atlas, on='WijkenEnBuurten', how='left')\n",
    "\n",
    "zon_atlas = buurtinfo_zon['Zon_atlas']\n",
    "buurtinfo_zon.drop(labels=['Zon_atlas'], axis=1,inplace = True)\n",
    "buurtinfo_zon.insert(0, 'Zon_atlas', zon_atlas)\n",
    "\n",
    "buurtinfo_zon.to_csv('alle_jaren_zonder_de_kut_puntjes.csv')\n",
    "buurtinfo_zon.drop(labels=['Zon_atlas'], axis=1,inplace = True)\n",
    "buurtinfo_zon\n",
    "# buurtinfo_merged.reset_index()\n"
   ]
  },
  {
   "cell_type": "markdown",
   "metadata": {},
   "source": [
    "## Calculate per neighbourhoods weights vectors"
   ]
  },
  {
   "cell_type": "code",
   "execution_count": null,
   "metadata": {
    "collapsed": false,
    "scrolled": true
   },
   "outputs": [],
   "source": [
    "buurten = buurtinfo_zon.sort_values(['WijkenEnBuurten', 'attributes.TELJAAR'], ascending=False)\n",
    "buurten"
   ]
  },
  {
   "cell_type": "code",
   "execution_count": null,
   "metadata": {
    "collapsed": false,
    "scrolled": true
   },
   "outputs": [],
   "source": [
    "buurten_shifted = buurten[buurten.columns[2:]].shift() - buurten[buurten.columns[2:]]\n",
    "buurten_complete = buurten_shifted.join(buurten[buurten.columns[:2]])\n",
    "buurten_complete = buurten_complete[buurten_shifted['attributes.TELJAAR'] > 0]\n",
    "buurten_complete = buurten_complete.drop('attributes.TELJAAR', axis=1 )\n",
    "buurten_complete = buurten_complete.drop('attributes.AANTAL_SUMMED', axis=1 )\n",
    "buurten_complete = buurten_complete.drop('SoortRegio', axis=1 )\n",
    "buurten_complete = buurten_complete.drop('attributes.AANTAL', axis=1 )\n",
    "\n",
    "mean_column_without_outliers = {}\n",
    "for column in buurten_complete.columns[:-1]:\n",
    "    mean_column_without_outliers[column] = buurten_complete[(buurten_complete[column] < 200) & (buurten_complete[column] > -200)][column].mean()\n",
    "\n",
    "buurten_complete = buurten_complete.groupby('WijkenEnBuurten', as_index=False).mean()\n",
    "buurten_complete"
   ]
  },
  {
   "cell_type": "code",
   "execution_count": null,
   "metadata": {
    "collapsed": false,
    "scrolled": true
   },
   "outputs": [],
   "source": [
    "higher_lower = {}\n",
    "for key, value in mean_column_without_outliers.items():\n",
    "    higher_lower[key] = {'higher': value + 2*column_stdvs[key], 'lower': value - 2*column_stdvs[key]}\n",
    "buurten_complete"
   ]
  },
  {
   "cell_type": "code",
   "execution_count": null,
   "metadata": {
    "collapsed": false,
    "scrolled": true
   },
   "outputs": [],
   "source": [
    "column_means = {}\n",
    "column_stdvs = {}\n",
    "for column in buurten_complete[-3:]:\n",
    "    column_means[column] = buurten_complete[column].mean()\n",
    "    column_stdvs[column] = buurten_complete[column].std()"
   ]
  },
  {
   "cell_type": "code",
   "execution_count": null,
   "metadata": {
    "collapsed": false,
    "scrolled": false
   },
   "outputs": [],
   "source": [
    "buurten_final = buurten_complete.copy()\n",
    "for column in buurten_final:\n",
    "    if column != 'WijkenEnBuurten':\n",
    "        buurten_final.loc[buurten_final[column] > 200, column] = mean_column_without_outliers[column]\n",
    "        buurten_final.loc[buurten_final[column] < -200, column] = -mean_column_without_outliers[column]\n",
    "buurten_final\n"
   ]
  },
  {
   "cell_type": "code",
   "execution_count": null,
   "metadata": {
    "collapsed": true,
    "scrolled": true
   },
   "outputs": [],
   "source": [
    "buurten_final['Zon_atlas'] = 1\n",
    "buurten_final.to_csv('buurt_weights.csv')"
   ]
  }
 ],
 "metadata": {
  "kernelspec": {
   "display_name": "Python [default]",
   "language": "python",
   "name": "python3"
  },
  "language_info": {
   "codemirror_mode": {
    "name": "ipython",
    "version": 3
   },
   "file_extension": ".py",
   "mimetype": "text/x-python",
   "name": "python",
   "nbconvert_exporter": "python",
   "pygments_lexer": "ipython3",
   "version": "3.6.0"
  }
 },
 "nbformat": 4,
 "nbformat_minor": 2
}
