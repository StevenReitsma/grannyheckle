{
 "cells": [
  {
   "cell_type": "markdown",
   "metadata": {},
   "source": [
    "# Computing station load using average PC6 consumption"
   ]
  },
  {
   "cell_type": "code",
   "execution_count": 1,
   "metadata": {
    "collapsed": true
   },
   "outputs": [],
   "source": [
    "import pandas as pd\n",
    "import matplotlib.pyplot as plt\n",
    "import requests\n",
    "from collections import defaultdict\n",
    "import numpy as np\n",
    "import tqdm\n",
    "from functools import lru_cache\n",
    "\n",
    "%matplotlib inline"
   ]
  },
  {
   "cell_type": "code",
   "execution_count": 2,
   "metadata": {
    "collapsed": true
   },
   "outputs": [],
   "source": [
    "postcode_url = 'https://basisregistraties.arcgisonline.nl/arcgis/rest/services/BAG/BAGv2/MapServer/0/query?where=postcode%3D%27{postcode}%27&text=&objectIds=&time=&geometry=&geometryType=esriGeometryPoint&inSR=&spatialRel=esriSpatialRelIntersects&relationParam=&outFields=*&returnGeometry=true&returnTrueCurves=false&maxAllowableOffset=&geometryPrecision=&outSR=4326&returnIdsOnly=false&returnCountOnly=false&orderByFields=&groupByFieldsForStatistics=&outStatistics=&returnZ=false&returnM=false&gdbVersion=&returnDistinctValues=false&resultOffset=&resultRecordCount=1&queryByDistance=&returnExtentsOnly=false&datumTransformation=&parameterValues=&rangeValues=&f=pjson'\n",
    "\n",
    "@lru_cache(26*26*8)\n",
    "def postcode_to_longlat(postcode):\n",
    "    '''Convert postcode to longitude and latitude'''\n",
    "    result = requests.get(postcode_url.format(postcode=postcode)).json()\n",
    "    if len(result['features']) < 1:\n",
    "        raise ValueError(f'postcode {postcode} yielded no results')\n",
    "    return list(result['features'][0]['geometry'].values())[::-1]"
   ]
  },
  {
   "cell_type": "code",
   "execution_count": 3,
   "metadata": {
    "collapsed": true
   },
   "outputs": [],
   "source": [
    "stations = pd.read_csv('/home/joris/Downloads/Groningen Stations.csv')"
   ]
  },
  {
   "cell_type": "code",
   "execution_count": 4,
   "metadata": {},
   "outputs": [
    {
     "data": {
      "text/html": [
       "<div>\n",
       "<style scoped>\n",
       "    .dataframe tbody tr th:only-of-type {\n",
       "        vertical-align: middle;\n",
       "    }\n",
       "\n",
       "    .dataframe tbody tr th {\n",
       "        vertical-align: top;\n",
       "    }\n",
       "\n",
       "    .dataframe thead th {\n",
       "        text-align: right;\n",
       "    }\n",
       "</style>\n",
       "<table border=\"1\" class=\"dataframe\">\n",
       "  <thead>\n",
       "    <tr style=\"text-align: right;\">\n",
       "      <th></th>\n",
       "      <th>STATIONSNUMMER</th>\n",
       "      <th>Gemeente</th>\n",
       "      <th>BOUWJAAR</th>\n",
       "      <th>BEDRIJFSSTATUS</th>\n",
       "      <th>VERMOGEN_NOMINAAL_CAPACITEIT</th>\n",
       "      <th>RDX</th>\n",
       "      <th>RDY</th>\n",
       "      <th>LAT</th>\n",
       "      <th>LONG</th>\n",
       "    </tr>\n",
       "  </thead>\n",
       "  <tbody>\n",
       "    <tr>\n",
       "      <th>0</th>\n",
       "      <td>GNG.ts0570</td>\n",
       "      <td>Groningen</td>\n",
       "      <td>2000.0</td>\n",
       "      <td>In bedrijf</td>\n",
       "      <td>630</td>\n",
       "      <td>233076.456252</td>\n",
       "      <td>580326.321621</td>\n",
       "      <td>53.203894</td>\n",
       "      <td>6.555670</td>\n",
       "    </tr>\n",
       "    <tr>\n",
       "      <th>1</th>\n",
       "      <td>GNG.ts0663</td>\n",
       "      <td>Groningen</td>\n",
       "      <td>1991.0</td>\n",
       "      <td>In bedrijf</td>\n",
       "      <td>400</td>\n",
       "      <td>229396.242152</td>\n",
       "      <td>581510.050675</td>\n",
       "      <td>53.214936</td>\n",
       "      <td>6.500533</td>\n",
       "    </tr>\n",
       "    <tr>\n",
       "      <th>2</th>\n",
       "      <td>GNG.ts0507</td>\n",
       "      <td>Groningen</td>\n",
       "      <td>1987.0</td>\n",
       "      <td>In bedrijf</td>\n",
       "      <td>400</td>\n",
       "      <td>229858.275159</td>\n",
       "      <td>581569.706668</td>\n",
       "      <td>53.215680</td>\n",
       "      <td>6.508339</td>\n",
       "    </tr>\n",
       "    <tr>\n",
       "      <th>3</th>\n",
       "      <td>GNG.ts0163</td>\n",
       "      <td>Groningen</td>\n",
       "      <td>1963.0</td>\n",
       "      <td>In bedrijf</td>\n",
       "      <td>400</td>\n",
       "      <td>233652.166225</td>\n",
       "      <td>581911.145609</td>\n",
       "      <td>53.218004</td>\n",
       "      <td>6.564664</td>\n",
       "    </tr>\n",
       "    <tr>\n",
       "      <th>4</th>\n",
       "      <td>GNG.ts0296</td>\n",
       "      <td>Groningen</td>\n",
       "      <td>1964.0</td>\n",
       "      <td>In bedrijf</td>\n",
       "      <td>315</td>\n",
       "      <td>231959.415220</td>\n",
       "      <td>580774.114638</td>\n",
       "      <td>53.208075</td>\n",
       "      <td>6.539109</td>\n",
       "    </tr>\n",
       "  </tbody>\n",
       "</table>\n",
       "</div>"
      ],
      "text/plain": [
       "  STATIONSNUMMER   Gemeente  BOUWJAAR BEDRIJFSSTATUS  \\\n",
       "0     GNG.ts0570  Groningen    2000.0     In bedrijf   \n",
       "1     GNG.ts0663  Groningen    1991.0     In bedrijf   \n",
       "2     GNG.ts0507  Groningen    1987.0     In bedrijf   \n",
       "3     GNG.ts0163  Groningen    1963.0     In bedrijf   \n",
       "4     GNG.ts0296  Groningen    1964.0     In bedrijf   \n",
       "\n",
       "   VERMOGEN_NOMINAAL_CAPACITEIT            RDX            RDY        LAT  \\\n",
       "0                           630  233076.456252  580326.321621  53.203894   \n",
       "1                           400  229396.242152  581510.050675  53.214936   \n",
       "2                           400  229858.275159  581569.706668  53.215680   \n",
       "3                           400  233652.166225  581911.145609  53.218004   \n",
       "4                           315  231959.415220  580774.114638  53.208075   \n",
       "\n",
       "       LONG  \n",
       "0  6.555670  \n",
       "1  6.500533  \n",
       "2  6.508339  \n",
       "3  6.564664  \n",
       "4  6.539109  "
      ]
     },
     "execution_count": 4,
     "metadata": {},
     "output_type": "execute_result"
    }
   ],
   "source": [
    "stations.head()"
   ]
  },
  {
   "cell_type": "code",
   "execution_count": 5,
   "metadata": {
    "collapsed": true
   },
   "outputs": [],
   "source": [
    "# Transform multiple CSVs into 1 CSV with \"year\" column\n",
    "total_df = pd.DataFrame()\n",
    "for year in range(2010, 2018):\n",
    "    df = pd.read_csv(f'/home/joris/Downloads/Enexis_kleinverbruiksgegevens_0101{year}.csv', sep=';', encoding='cp1252')\n",
    "    df = df[(df.WOONPLAATS == 'GRONINGEN') & (df.PRODUCTSOORT == 'ELK')]\n",
    "    df['JAAR'] = year\n",
    "    total_df = total_df.append(df, ignore_index=True)"
   ]
  },
  {
   "cell_type": "code",
   "execution_count": 6,
   "metadata": {},
   "outputs": [
    {
     "data": {
      "text/html": [
       "<div>\n",
       "<style scoped>\n",
       "    .dataframe tbody tr th:only-of-type {\n",
       "        vertical-align: middle;\n",
       "    }\n",
       "\n",
       "    .dataframe tbody tr th {\n",
       "        vertical-align: top;\n",
       "    }\n",
       "\n",
       "    .dataframe thead th {\n",
       "        text-align: right;\n",
       "    }\n",
       "</style>\n",
       "<table border=\"1\" class=\"dataframe\">\n",
       "  <thead>\n",
       "    <tr style=\"text-align: right;\">\n",
       "      <th></th>\n",
       "      <th>NETBEHEERDER</th>\n",
       "      <th>NETGEBIED</th>\n",
       "      <th>STRAATNAAM</th>\n",
       "      <th>POSTCODE_VAN</th>\n",
       "      <th>POSTCODE_TOT</th>\n",
       "      <th>WOONPLAATS</th>\n",
       "      <th>LANDCODE</th>\n",
       "      <th>PRODUCTSOORT</th>\n",
       "      <th>VERBRUIKSSEGMENT</th>\n",
       "      <th>LEVERINGSRICHTING_PERC</th>\n",
       "      <th>AANSLUITINGEN_AANTAL</th>\n",
       "      <th>FYSIEKE_STATUS_PERC</th>\n",
       "      <th>SOORT_AANSLUITING_PERC</th>\n",
       "      <th>SOORT_AANSLUITING</th>\n",
       "      <th>SJV_GEMIDDELD</th>\n",
       "      <th>SJV_LAAG_TARIEF_PERC</th>\n",
       "      <th>SLIMME_METER_PERC</th>\n",
       "      <th>JAAR</th>\n",
       "      <th>SJV_TOTAAL</th>\n",
       "    </tr>\n",
       "  </thead>\n",
       "  <tbody>\n",
       "    <tr>\n",
       "      <th>0</th>\n",
       "      <td>Enexis B.V.</td>\n",
       "      <td>ENEXIS</td>\n",
       "      <td>Praediniussingel</td>\n",
       "      <td>9711AA</td>\n",
       "      <td>9711AG</td>\n",
       "      <td>GRONINGEN</td>\n",
       "      <td>NL</td>\n",
       "      <td>ELK</td>\n",
       "      <td>KVB</td>\n",
       "      <td>100</td>\n",
       "      <td>69</td>\n",
       "      <td>100</td>\n",
       "      <td>NaN</td>\n",
       "      <td>NaN</td>\n",
       "      <td>5851.0</td>\n",
       "      <td>37</td>\n",
       "      <td>0.0</td>\n",
       "      <td>2010</td>\n",
       "      <td>403719.0</td>\n",
       "    </tr>\n",
       "    <tr>\n",
       "      <th>1</th>\n",
       "      <td>Enexis B.V.</td>\n",
       "      <td>ENEXIS</td>\n",
       "      <td>Ganzevoortsingel</td>\n",
       "      <td>9711AH</td>\n",
       "      <td>9711AJ</td>\n",
       "      <td>GRONINGEN</td>\n",
       "      <td>NL</td>\n",
       "      <td>ELK</td>\n",
       "      <td>KVB</td>\n",
       "      <td>100</td>\n",
       "      <td>29</td>\n",
       "      <td>100</td>\n",
       "      <td>NaN</td>\n",
       "      <td>NaN</td>\n",
       "      <td>1861.0</td>\n",
       "      <td>3</td>\n",
       "      <td>0.0</td>\n",
       "      <td>2010</td>\n",
       "      <td>53969.0</td>\n",
       "    </tr>\n",
       "    <tr>\n",
       "      <th>2</th>\n",
       "      <td>Enexis B.V.</td>\n",
       "      <td>ENEXIS</td>\n",
       "      <td>Ganzevoortsingel</td>\n",
       "      <td>9711AK</td>\n",
       "      <td>9711AK</td>\n",
       "      <td>GRONINGEN</td>\n",
       "      <td>NL</td>\n",
       "      <td>ELK</td>\n",
       "      <td>KVB</td>\n",
       "      <td>100</td>\n",
       "      <td>14</td>\n",
       "      <td>100</td>\n",
       "      <td>NaN</td>\n",
       "      <td>NaN</td>\n",
       "      <td>2064.0</td>\n",
       "      <td>31</td>\n",
       "      <td>0.0</td>\n",
       "      <td>2010</td>\n",
       "      <td>28896.0</td>\n",
       "    </tr>\n",
       "    <tr>\n",
       "      <th>3</th>\n",
       "      <td>Enexis B.V.</td>\n",
       "      <td>ENEXIS</td>\n",
       "      <td>Ganzevoortsingel</td>\n",
       "      <td>9711AL</td>\n",
       "      <td>9711AL</td>\n",
       "      <td>GRONINGEN</td>\n",
       "      <td>NL</td>\n",
       "      <td>ELK</td>\n",
       "      <td>KVB</td>\n",
       "      <td>100</td>\n",
       "      <td>14</td>\n",
       "      <td>100</td>\n",
       "      <td>NaN</td>\n",
       "      <td>NaN</td>\n",
       "      <td>1671.0</td>\n",
       "      <td>20</td>\n",
       "      <td>0.0</td>\n",
       "      <td>2010</td>\n",
       "      <td>23394.0</td>\n",
       "    </tr>\n",
       "    <tr>\n",
       "      <th>4</th>\n",
       "      <td>Enexis B.V.</td>\n",
       "      <td>ENEXIS</td>\n",
       "      <td>Ganzevoortsingel</td>\n",
       "      <td>9711AM</td>\n",
       "      <td>9711AM</td>\n",
       "      <td>GRONINGEN</td>\n",
       "      <td>NL</td>\n",
       "      <td>ELK</td>\n",
       "      <td>KVB</td>\n",
       "      <td>100</td>\n",
       "      <td>10</td>\n",
       "      <td>100</td>\n",
       "      <td>NaN</td>\n",
       "      <td>NaN</td>\n",
       "      <td>3202.0</td>\n",
       "      <td>22</td>\n",
       "      <td>0.0</td>\n",
       "      <td>2010</td>\n",
       "      <td>32020.0</td>\n",
       "    </tr>\n",
       "  </tbody>\n",
       "</table>\n",
       "</div>"
      ],
      "text/plain": [
       "  NETBEHEERDER NETGEBIED        STRAATNAAM POSTCODE_VAN POSTCODE_TOT  \\\n",
       "0  Enexis B.V.    ENEXIS  Praediniussingel       9711AA       9711AG   \n",
       "1  Enexis B.V.    ENEXIS  Ganzevoortsingel       9711AH       9711AJ   \n",
       "2  Enexis B.V.    ENEXIS  Ganzevoortsingel       9711AK       9711AK   \n",
       "3  Enexis B.V.    ENEXIS  Ganzevoortsingel       9711AL       9711AL   \n",
       "4  Enexis B.V.    ENEXIS  Ganzevoortsingel       9711AM       9711AM   \n",
       "\n",
       "  WOONPLAATS LANDCODE PRODUCTSOORT VERBRUIKSSEGMENT  LEVERINGSRICHTING_PERC  \\\n",
       "0  GRONINGEN       NL          ELK              KVB                     100   \n",
       "1  GRONINGEN       NL          ELK              KVB                     100   \n",
       "2  GRONINGEN       NL          ELK              KVB                     100   \n",
       "3  GRONINGEN       NL          ELK              KVB                     100   \n",
       "4  GRONINGEN       NL          ELK              KVB                     100   \n",
       "\n",
       "   AANSLUITINGEN_AANTAL  FYSIEKE_STATUS_PERC  SOORT_AANSLUITING_PERC  \\\n",
       "0                    69                  100                     NaN   \n",
       "1                    29                  100                     NaN   \n",
       "2                    14                  100                     NaN   \n",
       "3                    14                  100                     NaN   \n",
       "4                    10                  100                     NaN   \n",
       "\n",
       "  SOORT_AANSLUITING  SJV_GEMIDDELD  SJV_LAAG_TARIEF_PERC  SLIMME_METER_PERC  \\\n",
       "0               NaN         5851.0                    37                0.0   \n",
       "1               NaN         1861.0                     3                0.0   \n",
       "2               NaN         2064.0                    31                0.0   \n",
       "3               NaN         1671.0                    20                0.0   \n",
       "4               NaN         3202.0                    22                0.0   \n",
       "\n",
       "   JAAR  SJV_TOTAAL  \n",
       "0  2010    403719.0  \n",
       "1  2010     53969.0  \n",
       "2  2010     28896.0  \n",
       "3  2010     23394.0  \n",
       "4  2010     32020.0  "
      ]
     },
     "execution_count": 6,
     "metadata": {},
     "output_type": "execute_result"
    }
   ],
   "source": [
    "df = total_df\n",
    "# Compute the total consumption of the area\n",
    "df['SJV_TOTAAL'] = df.SJV_GEMIDDELD * df.AANSLUITINGEN_AANTAL\n",
    "df.head()"
   ]
  },
  {
   "cell_type": "markdown",
   "metadata": {},
   "source": [
    "## Find the stations closest to the area"
   ]
  },
  {
   "cell_type": "code",
   "execution_count": null,
   "metadata": {
    "collapsed": true
   },
   "outputs": [],
   "source": [
    "for year in tqdm.trange(2016, 2018, leave=False):\n",
    "    df_year = df[df.JAAR == year]\n",
    "    station_pos = stations[['LAT', 'LONG']].as_matrix()\n",
    "    verbruik_per_station = [0]*len(stations)\n",
    "    for _, row in df_year.iterrows():\n",
    "        try:\n",
    "            verbruik_loc = postcode_to_longlat(row.POSTCODE_VAN)\n",
    "        except ValueError:\n",
    "            continue\n",
    "        closest_stations = np.argsort(np.linalg.norm(verbruik_loc - station_pos, axis=1))\n",
    "        for idx in closest_stations:\n",
    "            if stations.BOUWJAAR[idx] < year:\n",
    "                break\n",
    "        verbruik_per_station[idx] += row.SJV_TOTAAL\n",
    "    stations[f'VERBRUIK_{year}'] = verbruik_per_station"
   ]
  },
  {
   "cell_type": "code",
   "execution_count": 17,
   "metadata": {
    "collapsed": true
   },
   "outputs": [],
   "source": [
    "def peak_power(verbruik):\n",
    "    '''Compute the Strand-Axelsson equation to convert average consumption to peak load'''\n",
    "    return 0.0002217 * verbruik + 0.0269 * np.sqrt(verbruik)"
   ]
  },
  {
   "cell_type": "code",
   "execution_count": 18,
   "metadata": {
    "collapsed": true
   },
   "outputs": [],
   "source": [
    "for year in range(2010, 2017):\n",
    "    stations[f'PEAK_{year}'] = peak_power(stations[f'VERBRUIK_{year}'])"
   ]
  },
  {
   "cell_type": "markdown",
   "metadata": {},
   "source": [
    "## Estimating future peak load using linear regression"
   ]
  },
  {
   "cell_type": "code",
   "execution_count": 92,
   "metadata": {
    "collapsed": true
   },
   "outputs": [],
   "source": [
    "from sklearn.linear_model import LinearRegression\n",
    "\n",
    "peaks_per_year = {y: [] for y in range(2016, 2029)}\n",
    "for _, row in stations.iterrows():\n",
    "    peaks = row.iloc[16:22]\n",
    "    years = np.arange(2010, 2016)\n",
    "    model = LinearRegression().fit(years.reshape(-1, 1), peaks.values.astype(float))\n",
    "    for year in range(2016, 2029):\n",
    "        estimated_peak = model.predict([[year]])[0]\n",
    "        peaks_per_year[year].append(estimated_peak)\n",
    "\n",
    "for year, peaks in peaks_per_year.items():\n",
    "    stations[f'FORECAST_PEAK_{year}'] = peaks"
   ]
  },
  {
   "cell_type": "markdown",
   "metadata": {},
   "source": [
    "## Adding the projected load produced by solar panels"
   ]
  },
  {
   "cell_type": "code",
   "execution_count": 137,
   "metadata": {
    "collapsed": true
   },
   "outputs": [],
   "source": [
    "import json\n",
    "for year in range(2017, 2028):\n",
    "    solar_panel_power = {int(k): v for k, v in json.load(open(f'toadd_{year}.json')).items()}\n",
    "    to_add = np.zeros(len(stations))\n",
    "    for idx, value in solar_panel_power.items():\n",
    "        to_add[idx] += value\n",
    "    stations[f'FORECAST_SOLAR_PEAK_{year}'] = stations[f'FORECAST_PEAK_{year}'] + to_add"
   ]
  },
  {
   "cell_type": "code",
   "execution_count": 190,
   "metadata": {
    "scrolled": false
   },
   "outputs": [
    {
     "data": {
      "image/png": "[encoded data removed]",
      "text/plain": [
       "<matplotlib.figure.Figure at 0x7fbcdcec9390>"
      ]
     },
     "metadata": {},
     "output_type": "display_data"
    }
   ],
   "source": [
    "import matplotlib\n",
    "matplotlib.rcParams.update({'font.size': 20})\n",
    "\n",
    "for i in [131]: # np.random.choice(list(solar_panel_power.keys()), size=15):\n",
    "    plt.figure(figsize=(8, 8))\n",
    "    plt.plot(list(range(2010, 2016)), stations.iloc[i, 16:22], label='Estimated peak')\n",
    "    data = stations.iloc[i, 24:37]\n",
    "    plt.plot(list(range(2015, 2029)), np.concatenate([[stations.iloc[i, 21]], np.clip(data, 0, float('inf'))]), '-', c='green', label='Forecast peak')\n",
    "    plt.plot(list(range(2017, 2028)), stations.iloc[i, 37:].values, '-', c='purple', label='Forecast peak + solar')\n",
    "    \n",
    "    plt.plot([2010, 2028], [stations.VERMOGEN_NOMINAAL_CAPACITEIT[i]]*2, '--', c='orange', label='nominal capacity')\n",
    "    plt.plot([2010, 2028], [stations.VERMOGEN_NOMINAAL_CAPACITEIT[i]*1.2]*2, '--', c='red', label='max capacity')\n",
    "    plt.ylim([0, max(stations.iloc[i, 16:22].max(), stations.iloc[i, 24:37].max(), stations.VERMOGEN_NOMINAAL_CAPACITEIT[i]*1.2)*1.1])\n",
    "    plt.xlim([2010, 2028])\n",
    "\n",
    "    plt.gca().legend(loc='center left', bbox_to_anchor=(1, 0.5))\n",
    "    plt.title(f'Projected Peak load of station {stations.STATIONSNUMMER[i]}')\n",
    "    plt.savefig('projected_solar.png', dpi=300, bbox_inches='tight')\n",
    "    plt.show()"
   ]
  },
  {
   "cell_type": "code",
   "execution_count": 193,
   "metadata": {
    "collapsed": true
   },
   "outputs": [],
   "source": [
    "stations.to_csv('stations.csv', index=False)"
   ]
  }
 ],
 "metadata": {
  "kernelspec": {
   "display_name": "Python 3",
   "language": "python",
   "name": "python3"
  },
  "language_info": {
   "codemirror_mode": {
    "name": "ipython",
    "version": 3
   },
   "file_extension": ".py",
   "mimetype": "text/x-python",
   "name": "python",
   "nbconvert_exporter": "python",
   "pygments_lexer": "ipython3",
   "version": "3.6.3"
  }
 },
 "nbformat": 4,
 "nbformat_minor": 2
}
