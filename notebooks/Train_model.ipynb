{
 "cells": [
  {
   "cell_type": "code",
   "execution_count": null,
   "metadata": {
    "collapsed": false
   },
   "outputs": [],
   "source": [
    "import pandas as pd\n",
    "import numpy as np"
   ]
  },
  {
   "cell_type": "code",
   "execution_count": null,
   "metadata": {
    "collapsed": true
   },
   "outputs": [],
   "source": [
    "pd.options.display.max_columns = 999"
   ]
  },
  {
   "cell_type": "code",
   "execution_count": null,
   "metadata": {
    "collapsed": false
   },
   "outputs": [],
   "source": [
    "kern2017 = pd.read_csv(\"data/groningen/groningen_kern2017.csv\", sep=';')"
   ]
  },
  {
   "cell_type": "code",
   "execution_count": null,
   "metadata": {
    "collapsed": false
   },
   "outputs": [],
   "source": [
    "def bla(columname):\n",
    "    splitted = columname.split('_')\n",
    "    if len(splitted) > 1:\n",
    "        splitted = splitted[:-1]\n",
    "        if len(splitted) > 1:\n",
    "            return '_'.join(splitted)\n",
    "    return splitted[0]"
   ]
  },
  {
   "cell_type": "code",
   "execution_count": null,
   "metadata": {
    "collapsed": true
   },
   "outputs": [],
   "source": [
    "columns = kern2017.columns.map(bla)"
   ]
  },
  {
   "cell_type": "code",
   "execution_count": null,
   "metadata": {
    "collapsed": false
   },
   "outputs": [],
   "source": [
    "import re\n",
    "df = pd.read_csv('../data/alle_jaren_zonder_de_kut_puntjes.csv')\n",
    "df = df.drop(\"WijkenEnBuurten\", axis=1).drop(\"SoortRegio\", axis=1).drop(df.columns[0], axis=1)\n",
    "# for x in df.columns:\n",
    "#     if type(df[x][0]) == str:\n",
    "#         df[x] = df[x].str.replace(' ', '')"
   ]
  },
  {
   "cell_type": "markdown",
   "metadata": {},
   "source": [
    "## Prediction pipeline"
   ]
  },
  {
   "cell_type": "code",
   "execution_count": null,
   "metadata": {
    "collapsed": false
   },
   "outputs": [],
   "source": [
    "import lightgbm as lgb\n",
    "from sklearn.metrics import mean_squared_error\n",
    "rmses = []\n",
    "rmses_baseline = []\n",
    "for i in range(50):\n",
    "    msk = np.random.rand(len(df)) < 0.9\n",
    "    train_set = df[msk]\n",
    "    test_set = df[~msk]\n",
    "\n",
    "    y_train = train_set['attributes.AANTAL_SUMMED'].values\n",
    "    X_train = train_set.drop('attributes.AANTAL_SUMMED', axis=1).drop('attributes.AANTAL',axis=1).values\n",
    "\n",
    "    y_test = test_set['attributes.AANTAL_SUMMED'].values\n",
    "    X_test = test_set.drop('attributes.AANTAL_SUMMED', axis=1).drop('attributes.AANTAL',axis=1).values\n",
    "\n",
    "    lgb_train = lgb.Dataset(X_train, y_train)\n",
    "    lgb_eval = lgb.Dataset(X_test, y_test, reference=lgb_train)\n",
    "\n",
    "    # specify your configurations as a dict\n",
    "    params = {\n",
    "        'task': 'train',\n",
    "        'boosting_type': 'gbdt',\n",
    "        'objective': 'regression',\n",
    "        'metric': {'l2', 'rmse'},\n",
    "        'num_leaves': 127,\n",
    "        'learning_rate': 0.05,\n",
    "        'feature_fraction': 0.9,\n",
    "        'bagging_fraction': 0.8,\n",
    "        'bagging_freq': 5,\n",
    "        'verbose': 0\n",
    "    }\n",
    "\n",
    "    print('Start training...')\n",
    "    # train\n",
    "    gbm = lgb.train(params,\n",
    "                    lgb_train,\n",
    "                    num_boost_round=500,\n",
    "                    valid_sets=lgb_eval,\n",
    "                    early_stopping_rounds=10)\n",
    "\n",
    "\n",
    "    print('Start predicting...')\n",
    "    # predict\n",
    "    y_pred = gbm.predict(X_test, num_iteration=gbm.best_iteration)\n",
    "    print(y_pred)\n",
    "    print(y_test)\n",
    "    baseline = [np.mean(y_train)] * len(y_test)\n",
    "    # eval\n",
    "    print('The rmse of prediction is:', mean_squared_error(y_test, y_pred) ** 0.5)\n",
    "    print('The rmse of baseline is:', mean_squared_error(baseline, y_test) ** 0.5)\n",
    "    rmses.append(mean_squared_error(y_test, y_pred) ** 0.5)\n",
    "    rmses_baseline.append(mean_squared_error(baseline, y_test) ** 0.5)\n",
    "print(np.mean(rmses))\n",
    "print(np.mean(rmses_baseline))\n"
   ]
  },
  {
   "cell_type": "code",
   "execution_count": null,
   "metadata": {
    "collapsed": false
   },
   "outputs": [],
   "source": [
    "msk = np.random.rand(len(df)) < 0.9\n",
    "train_set = df[msk]\n",
    "test_set = df[~msk]\n",
    "\n",
    "y_train = train_set['attributes.AANTAL_SUMMED'].values\n",
    "X_train = train_set.drop('attributes.AANTAL_SUMMED', axis=1).drop('attributes.AANTAL',axis=1).values\n",
    "# X_train = X_train[['HuishoudensZonderKinderen','k_45Tot65Jaar','k_65JaarOfOuder','Gehuwd','Gescheiden','BouwjaarVoor2000','TweeOnderEenKapWoning1',\n",
    "# 'GemiddeldAardgasverbruikTotaal','AantalInkomensontvangers','GemiddeldInkomenPerInkomensontvanger','HuishoudensMetEenLaagInkomen',\n",
    "# 'HuishOnderOfRondSociaalMinimum','BedrijfsvestigingenTotaal','PersonenautoSOverigeBrandstof'].values\n",
    "\n",
    "y_test = test_set['attributes.AANTAL_SUMMED'].values\n",
    "X_test = test_set.drop('attributes.AANTAL_SUMMED', axis=1).drop('attributes.AANTAL',axis=1).values\n",
    "lgb_train = lgb.Dataset(X_train, y_train)\n",
    "lgb_eval = lgb.Dataset(X_test, y_test, reference=lgb_train)\n",
    "\n",
    "# specify your configurations as a dict\n",
    "params = {\n",
    "    'task': 'train',\n",
    "    'boosting_type': 'gbdt',\n",
    "    'objective': 'regression',\n",
    "    'metric': {'l2', 'rmse'},\n",
    "    'num_leaves': 127,\n",
    "    'learning_rate': 0.05,\n",
    "    'feature_fraction': 0.9,\n",
    "    'bagging_fraction': 0.8,\n",
    "    'bagging_freq': 5,\n",
    "    'verbose': 0\n",
    "}\n",
    "\n",
    "print('Start training...')\n",
    "# train\n",
    "gbm = lgb.train(params,\n",
    "                lgb_train,\n",
    "                num_boost_round=500,\n",
    "                valid_sets=lgb_eval,\n",
    "                early_stopping_rounds=10)\n",
    "gbm.save_model('../data/model.txt')"
   ]
  }
 ],
 "metadata": {
  "kernelspec": {
   "display_name": "Python [conda env:lightgbm]",
   "language": "python",
   "name": "conda-env-lightgbm-py"
  },
  "language_info": {
   "codemirror_mode": {
    "name": "ipython",
    "version": 3
   },
   "file_extension": ".py",
   "mimetype": "text/x-python",
   "name": "python",
   "nbconvert_exporter": "python",
   "pygments_lexer": "ipython3",
   "version": "3.6.2"
  }
 },
 "nbformat": 4,
 "nbformat_minor": 2
}
